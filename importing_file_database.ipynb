{
 "cells": [
  {
   "cell_type": "code",
   "execution_count": 3,
   "metadata": {},
   "outputs": [
    {
     "name": "stdout",
     "output_type": "stream",
     "text": [
      "Data from Excel file successfully imported into the 'paras_ads_table' table of 'paras_ads' database.\n"
     ]
    }
   ],
   "source": [
    "import pandas as pd\n",
    "from sqlalchemy import create_engine\n",
    "import pymysql  \n",
    "\n",
    "# Replace with your actual credentials\n",
    "USERNAME = 'root'\n",
    "PASSWORD = 'root'\n",
    "HOST = 'localhost'\n",
    "PORT = '3306'  # Default MySQL port\n",
    "DATABASE = 'paras_ads'  # Database where we want to import the Excel file\n",
    "\n",
    "# Create a connection to the MySQL database\n",
    "engine = create_engine(f\"mysql+pymysql://{USERNAME}:{PASSWORD}@{HOST}:{PORT}/{DATABASE}\")\n",
    "\n",
    "# Load the Excel file into a pandas DataFrame\n",
    "file_path = r'D:\\dataset for  practice\\titanic_data\\Paras_Main_file_Paras_may25-july8.xlsx'\n",
    "df = pd.read_excel(file_path)\n",
    "\n",
    "# Specify the table name where the data will be stored\n",
    "table_name = 'paras_ads_table'\n",
    "\n",
    "# Write the data to the MySQL database (replace if the table already exists)\n",
    "df.to_sql(table_name, con=engine, if_exists='replace', index=False)\n",
    "\n",
    "# Print success message\n",
    "print(f\"Data from Excel file successfully imported into the '{table_name}' table of '{DATABASE}' database.\")\n"
   ]
  },
  {
   "cell_type": "code",
   "execution_count": 10,
   "metadata": {},
   "outputs": [
    {
     "name": "stdout",
     "output_type": "stream",
     "text": [
      "c:\\Users\\gowth\\anaconda3\\python.exe\n"
     ]
    }
   ],
   "source": [
    "import sys\n",
    "print(sys.executable)"
   ]
  }
 ],
 "metadata": {
  "kernelspec": {
   "display_name": "base",
   "language": "python",
   "name": "python3"
  },
  "language_info": {
   "codemirror_mode": {
    "name": "ipython",
    "version": 3
   },
   "file_extension": ".py",
   "mimetype": "text/x-python",
   "name": "python",
   "nbconvert_exporter": "python",
   "pygments_lexer": "ipython3",
   "version": "3.12.0"
  }
 },
 "nbformat": 4,
 "nbformat_minor": 2
}
